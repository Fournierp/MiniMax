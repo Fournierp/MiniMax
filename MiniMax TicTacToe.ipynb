{
 "cells": [
  {
   "cell_type": "markdown",
   "metadata": {},
   "source": [
    "# MiniMax TicTacToe\n",
    "\n",
    "In this notebook we will explore the famous MiniMax Algorithm. To do so we will use the simple game of TicTacToe:\n",
    "\n",
    "![alt text](https://upload.wikimedia.org/wikipedia/commons/d/da/TicTacToe-152374698XOp.gif \"Demo GIF\")\n",
    "\n",
    "The rules of that game are simple, align 3 of your pieces horizontally, vertically or diagonaly to win. In this notebook, we will approach the MiniMax algorithm from a naive standpoint by exploring simple algorithms. The first one will be a one step lookahead. Yet let us firstly look at the game environment that is in file \"TicTacToe.py\". The default strategy of the agent is random decision making:"
   ]
  },
  {
   "cell_type": "code",
   "execution_count": 1,
   "metadata": {},
   "outputs": [],
   "source": [
    "import TicTacToe"
   ]
  },
  {
   "cell_type": "code",
   "execution_count": 3,
   "metadata": {
    "scrolled": true
   },
   "outputs": [
    {
     "name": "stdout",
     "output_type": "stream",
     "text": [
      "-| -| -| \n",
      "-| -| -| \n",
      "-| -| -| \n",
      "\n",
      "-| X| -| \n",
      "-| -| -| \n",
      "-| -| -| \n",
      "\n",
      "-| X| -| \n",
      "-| -| -| \n",
      "O| -| -| \n",
      "\n",
      "-| X| -| \n",
      "-| -| -| \n",
      "O| -| X| \n",
      "\n",
      "O| X| -| \n",
      "-| -| -| \n",
      "O| -| X| \n",
      "\n",
      "O| X| -| \n",
      "-| X| -| \n",
      "O| -| X| \n",
      "\n",
      "O| X| -| \n",
      "-| X| -| \n",
      "O| O| X| \n",
      "\n",
      "O| X| X| \n",
      "-| X| -| \n",
      "O| O| X| \n",
      "\n",
      "O| X| X| \n",
      "-| X| O| \n",
      "O| O| X| \n",
      "\n",
      "O| X| X| \n",
      "X| X| O| \n",
      "O| O| X| \n",
      "\n",
      "Tied Game!\n",
      "Player 1 W: 43, L: 47, T: 10 "
     ]
    }
   ],
   "source": [
    "def main():\n",
    "    game = TicTacToe.TicTacToe()\n",
    "    game.play()\n",
    "    game.percentage()\n",
    "\n",
    "if __name__ == \"__main__\":\n",
    "    main()"
   ]
  },
  {
   "cell_type": "markdown",
   "metadata": {},
   "source": [
    "It makes sense that two random agents playing against each other would almost tie. "
   ]
  },
  {
   "cell_type": "code",
   "execution_count": null,
   "metadata": {},
   "outputs": [],
   "source": []
  }
 ],
 "metadata": {
  "kernelspec": {
   "display_name": "Python 3",
   "language": "python",
   "name": "python3"
  },
  "language_info": {
   "codemirror_mode": {
    "name": "ipython",
    "version": 3
   },
   "file_extension": ".py",
   "mimetype": "text/x-python",
   "name": "python",
   "nbconvert_exporter": "python",
   "pygments_lexer": "ipython3",
   "version": "3.6.4"
  }
 },
 "nbformat": 4,
 "nbformat_minor": 2
}
