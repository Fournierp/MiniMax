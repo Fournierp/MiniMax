{
 "cells": [
  {
   "cell_type": "markdown",
   "metadata": {},
   "source": [
    "# MiniMax TicTacToe\n",
    "\n",
    "In this notebook we will explore the famous MiniMax Algorithm. To do so we will use the simple game of TicTacToe:\n",
    "\n",
    "![alt text](https://upload.wikimedia.org/wikipedia/commons/d/da/TicTacToe-152374698XOp.gif \"Demo GIF\")\n",
    "\n",
    "The rules of that game are simple, align 3 of your pieces horizontally, vertically or diagonaly to win. In this notebook, we will approach the MiniMax algorithm from a naive standpoint by exploring simple algorithms. The first one will be a one step lookahead. Yet let us firstly look at the game environment that is in file \"TicTacToe.py\". The default strategy of the agent is random decision making:"
   ]
  },
  {
   "cell_type": "code",
   "execution_count": 1,
   "metadata": {
    "scrolled": true
   },
   "outputs": [
    {
     "name": "stdout",
     "output_type": "stream",
     "text": [
      "-| -| -| \n",
      "-| -| -| \n",
      "-| -| -| \n",
      "\n",
      "-| -| -| \n",
      "-| -| -| \n",
      "X| -| -| \n",
      "\n",
      "-| -| -| \n",
      "O| -| -| \n",
      "X| -| -| \n",
      "\n",
      "-| -| -| \n",
      "O| X| -| \n",
      "X| -| -| \n",
      "\n",
      "-| -| -| \n",
      "O| X| -| \n",
      "X| O| -| \n",
      "\n",
      "-| X| -| \n",
      "O| X| -| \n",
      "X| O| -| \n",
      "\n",
      "-| X| O| \n",
      "O| X| -| \n",
      "X| O| -| \n",
      "\n",
      "-| X| O| \n",
      "O| X| X| \n",
      "X| O| -| \n",
      "\n",
      "-| X| O| \n",
      "O| X| X| \n",
      "X| O| O| \n",
      "\n",
      "X| X| O| \n",
      "O| X| X| \n",
      "X| O| O| \n",
      "\n",
      "Tied Game!\n",
      "Player 1: random vs. Player 2: random\n",
      "Player 1 W: 40, L: 46, T: 14 "
     ]
    }
   ],
   "source": [
    "import TicTacToe\n",
    "def main():\n",
    "    game = TicTacToe.TicTacToe()\n",
    "    game.play()\n",
    "    game.percentage()\n",
    "\n",
    "if __name__ == \"__main__\":\n",
    "    main()"
   ]
  },
  {
   "cell_type": "markdown",
   "metadata": {},
   "source": [
    "It makes sense that two random agents playing against each other would almost tie. Now let us explore the **One Step Lookahead** algorithm. This algorithm simply looks at the board and finds out if there exist a move that would win the game and plays it accordingly. \n",
    "\n",
    "```python\n",
    "    def agent_next_winning_move(self):\n",
    "        # Agent that plays the next move that wins the board\n",
    "        board_copy = self.game_board.copy()\n",
    "        moves = self.get_valid_moves()\n",
    "        next_move = None\n",
    "        for move in moves:\n",
    "            x, y = int(move / 3), int(move % 3)\n",
    "            board_copy[x][y] = self.player_turn\n",
    "            for i in range(0, 3):\n",
    "                # Vertical winner\n",
    "                if board_copy[0][i] != '-':\n",
    "                    if self.game_board[0][i] == board_copy[1][i] == board_copy[2][i]:\n",
    "                        next_move = move\n",
    "                        break\n",
    "                # Horizontal winner\n",
    "                if board_copy[i][0] != '-':\n",
    "                    if board_copy[i][0] == board_copy[i][1] == board_copy[i][2]:\n",
    "                        next_move = move\n",
    "                        break\n",
    "            # Diagonal winner\n",
    "            if board_copy[1][1] != '-':\n",
    "                if board_copy[0][0] == board_copy[1][1] == board_copy[2][2]:\n",
    "                    next_move = move\n",
    "                    break\n",
    "                elif board_copy[2][0] == board_copy[1][1] == board_copy[0][2]:\n",
    "                    next_move = move\n",
    "                    break\n",
    "            # Tie\n",
    "            for i in range(3):\n",
    "                for j in range(3):\n",
    "                    # If there is at least one tile not filed\n",
    "                    if board_copy[i][j] == '-':\n",
    "                        next_move = None\n",
    "\n",
    "            next_move = None\n",
    "        #\n",
    "        if next_move is not None:\n",
    "            return int(next_move / 3), int(next_move % 3)\n",
    "        else:\n",
    "            xy = random.choice(moves)\n",
    "            return int(xy / 3), int(xy % 3)\n",
    "\n",
    "```"
   ]
  },
  {
   "cell_type": "code",
   "execution_count": 2,
   "metadata": {},
   "outputs": [
    {
     "name": "stdout",
     "output_type": "stream",
     "text": [
      "-| -| -| \n",
      "-| -| -| \n",
      "-| -| -| \n",
      "\n",
      "-| -| -| \n",
      "-| -| -| \n",
      "X| -| -| \n",
      "\n",
      "-| -| -| \n",
      "O| -| -| \n",
      "X| -| -| \n",
      "\n",
      "-| -| -| \n",
      "O| X| -| \n",
      "X| -| -| \n",
      "\n",
      "-| -| -| \n",
      "O| X| O| \n",
      "X| -| -| \n",
      "\n",
      "-| -| X| \n",
      "O| X| O| \n",
      "X| -| -| \n",
      "\n",
      "Player 1 won!\n",
      "Player 1: next_winning vs. Player 2: random\n",
      "Player 1 W: 68, L: 27, T: 5 "
     ]
    }
   ],
   "source": [
    "from TicTacToe import TicTacToe\n",
    "def main():\n",
    "    g = TicTacToe(player1=\"next_winning\", player2=\"random\")\n",
    "    g.play()\n",
    "    g.percentage()\n",
    "\n",
    "if __name__ == \"__main__\":\n",
    "    main()"
   ]
  },
  {
   "cell_type": "markdown",
   "metadata": {},
   "source": [
    "The results are already promissing.\n",
    "\n",
    "Now the State Space of TicTacToe (the 9 tiles) is quite limited so the One Step Lookahead is quite easy to develop. For more complex games like chess, developping a One Step Lookahead algorithm is more challenging. Indeed our TicTacToe script picks a random position when there is no winning move available. Yet for chess the approach to take would be to build a heuristic function. Even though I have not built one for this project, we can look at the purpose of such a function. As a player, there are position that are more advantageous; the heuristic function simply translates such preferences into a fitness score and the move with the highest score will be selected. In chess we could translate the capture of each piece with a reward which will direct the algorithm to prioritize important pieces over pawns.\n",
    "\n",
    "Given the processing power of computes, why not elaborate the One Step Lookahead to a N Step Lookahead. This is a strategy that humans do subconsciously when playing board games. In chess professionals try to plan several steps ahead to find the optimal move."
   ]
  },
  {
   "cell_type": "code",
   "execution_count": 3,
   "metadata": {},
   "outputs": [
    {
     "ename": "SyntaxError",
     "evalue": "invalid syntax (<ipython-input-3-8d0727028d48>, line 1)",
     "output_type": "error",
     "traceback": [
      "\u001b[0;36m  File \u001b[0;32m\"<ipython-input-3-8d0727028d48>\"\u001b[0;36m, line \u001b[0;32m1\u001b[0m\n\u001b[0;31m    This is a strategy that humans do subconsciously when playing board games.\u001b[0m\n\u001b[0m                     ^\u001b[0m\n\u001b[0;31mSyntaxError\u001b[0m\u001b[0;31m:\u001b[0m invalid syntax\n"
     ]
    }
   ],
   "source": []
  }
 ],
 "metadata": {
  "kernelspec": {
   "display_name": "Python 3",
   "language": "python",
   "name": "python3"
  },
  "language_info": {
   "codemirror_mode": {
    "name": "ipython",
    "version": 3
   },
   "file_extension": ".py",
   "mimetype": "text/x-python",
   "name": "python",
   "nbconvert_exporter": "python",
   "pygments_lexer": "ipython3",
   "version": "3.6.4"
  }
 },
 "nbformat": 4,
 "nbformat_minor": 2
}
